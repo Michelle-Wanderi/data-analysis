{
 "cells": [
  {
   "cell_type": "code",
   "execution_count": null,
   "metadata": {},
   "outputs": [],
   "source": [
    "import numpy as np\n",
    "import pandas as pd\n",
    "import seaborn as sns\n",
    "import matplotlib.pyplot as plt\n",
    "\n",
    "data = pd.read_csv(\"pokemon_data.csv\")\n",
    "\n",
    "\n",
    "#Check the type of data\n",
    "print(\"Type: \", type(data))\n",
    "\n",
    "# Printing the first 10 records\n",
    "print(data.head(10))\n",
    "\n",
    "#Printing the last 10 record\n",
    "print(data.tail(10))\n",
    "\n",
    "#Data description\n",
    "data.describe()\n",
    "\n",
    "#Data Info\n",
    "data.info()\n",
    "\n",
    "#Renaming column heading\n",
    "\n",
    "data.rename(columns = {'Murder.Rate': 'MurderRate'}, inplace=True)\n",
    "\n",
    "#check the column headings\n",
    "list(data)\n",
    "\n",
    "\n",
    "#Calculating mean\n",
    "Population_mean = data.Population.mean()\n",
    "print(\"Population Mean :\", Population_mean)\n",
    "\n",
    "MurderRate_mean = data.MurderRate.mean()\n",
    "print(\"\\nMurderRate Mean :\", MurderRate_mean)\n",
    "\n",
    "\n",
    "#Calculating median\n",
    "Population_median = data.Population.median()\n",
    "print(\"Population Median :\", Population_median)\n",
    "\n",
    "MurderRate_median = data.MurderRate.median()\n",
    "print(\"\\nMurderRate Median :\", MurderRate_median)\n",
    "\n",
    "#Calculatiing standard deviation\n",
    "Population_std = data.Population.std()\n",
    "print(\"Population std :\", Population_std)\n",
    "\n",
    "MurderRate_std = data.MurderRate.std()\n",
    "print(\"\\nMurderRate std :\", MurderRate_std)\n",
    "\n",
    "#Calculatiing variance\n",
    "Population_var = data.Population.var()\n",
    "print(\"Population std :\", Population_std)\n",
    "\n",
    "MurderRate_var = data.MurderRate.var()\n",
    "print(\"\\nMurderRate std :\", MurderRate_var)\n",
    "\n",
    "\n",
    "\n",
    "\n",
    "\n",
    "\n",
    "\n"
   ]
  },
  {
   "cell_type": "markdown",
   "metadata": {},
   "source": [
    "Iloc method will give you data according to the position\n",
    "Loc method will give you data according to the index"
   ]
  }
 ],
 "metadata": {
  "kernelspec": {
   "display_name": "Python 3 (ipykernel)",
   "language": "python",
   "name": "python3"
  },
  "language_info": {
   "codemirror_mode": {
    "name": "ipython",
    "version": 3
   },
   "file_extension": ".py",
   "mimetype": "text/x-python",
   "name": "python",
   "nbconvert_exporter": "python",
   "pygments_lexer": "ipython3",
   "version": "3.10.9"
  },
  "vscode": {
   "interpreter": {
    "hash": "31f2aee4e71d21fbe5cf8b01ff0e069b9275f58929596ceb00d14d90e3e16cd6"
   }
  }
 },
 "nbformat": 4,
 "nbformat_minor": 2
}
